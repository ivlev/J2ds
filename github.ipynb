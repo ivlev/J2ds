{
  "nbformat": 4,
  "nbformat_minor": 0,
  "metadata": {
    "colab": {
      "name": "github.ipynb",
      "version": "0.3.2",
      "provenance": [],
      "include_colab_link": true
    },
    "kernelspec": {
      "name": "python3",
      "display_name": "Python 3"
    }
  },
  "cells": [
    {
      "cell_type": "markdown",
      "metadata": {
        "id": "view-in-github",
        "colab_type": "text"
      },
      "source": [
        "<a href=\"https://colab.research.google.com/github/ivlev/J2ds/blob/master/github.ipynb\" target=\"_parent\"><img src=\"https://colab.research.google.com/assets/colab-badge.svg\" alt=\"Open In Colab\"/></a>"
      ]
    },
    {
      "metadata": {
        "id": "5Kjvj09Jo89b",
        "colab_type": "code",
        "colab": {}
      },
      "cell_type": "code",
      "source": [
        "import sys\n",
        "while True:\n",
        "  try:\n",
        "    b=input('Введите название страны ')\n",
        "    if b=='Россия':\n",
        "      bdr=3; max=5\n",
        "      break\n",
        "    elif (b=='Беларусь') or (b=='Армения') or (b=='Казахстан'):\n",
        "      bdr=4; max=10\n",
        "      break\n",
        "    else:\n",
        "      print('Мы не принимаем учеников из этой страны!')\n",
        "      print ('Вы ошиблись. Попробуйте снова.')\n",
        "  except ValueError:\n",
        "        sys.stdout.flush() \n",
        "a=int(input('оценка ')) \n",
        "if a<bdr:\n",
        "  print('Все плохо')\n",
        "elif a>max:\n",
        "  print('для ', b, ' таких оценок не бывает!') \n",
        "elif a>=bdr:\n",
        "  print('сойдет')\n"
      ],
      "execution_count": 0,
      "outputs": []
    }
  ]
}